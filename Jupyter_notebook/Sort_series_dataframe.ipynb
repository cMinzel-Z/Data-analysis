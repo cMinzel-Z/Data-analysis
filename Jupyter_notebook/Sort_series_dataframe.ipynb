{
 "cells": [
  {
   "cell_type": "code",
   "execution_count": 1,
   "metadata": {},
   "outputs": [],
   "source": [
    "import numpy as np\n",
    "import pandas as pd\n",
    "from pandas import Series, DataFrame"
   ]
  },
  {
   "cell_type": "markdown",
   "metadata": {},
   "source": [
    "# Series的排序"
   ]
  },
  {
   "cell_type": "code",
   "execution_count": 2,
   "metadata": {},
   "outputs": [],
   "source": [
    "s1 = Series(np.random.randn(10))"
   ]
  },
  {
   "cell_type": "code",
   "execution_count": 3,
   "metadata": {},
   "outputs": [
    {
     "data": {
      "text/plain": [
       "0   -1.579217\n",
       "1   -0.780550\n",
       "2    0.358587\n",
       "3    0.011472\n",
       "4   -0.587725\n",
       "5   -0.315136\n",
       "6   -0.009403\n",
       "7    1.203433\n",
       "8   -1.284728\n",
       "9    0.286088\n",
       "dtype: float64"
      ]
     },
     "execution_count": 3,
     "metadata": {},
     "output_type": "execute_result"
    }
   ],
   "source": [
    "s1"
   ]
  },
  {
   "cell_type": "code",
   "execution_count": 4,
   "metadata": {},
   "outputs": [
    {
     "data": {
      "text/plain": [
       "array([-1.57921682, -0.78055028,  0.3585874 ,  0.01147179, -0.58772469,\n",
       "       -0.31513649, -0.00940269,  1.20343314, -1.28472837,  0.28608802])"
      ]
     },
     "execution_count": 4,
     "metadata": {},
     "output_type": "execute_result"
    }
   ],
   "source": [
    "s1.values"
   ]
  },
  {
   "cell_type": "code",
   "execution_count": 5,
   "metadata": {},
   "outputs": [
    {
     "data": {
      "text/plain": [
       "RangeIndex(start=0, stop=10, step=1)"
      ]
     },
     "execution_count": 5,
     "metadata": {},
     "output_type": "execute_result"
    }
   ],
   "source": [
    "s1.index"
   ]
  },
  {
   "cell_type": "markdown",
   "metadata": {},
   "source": [
    "按照values排序"
   ]
  },
  {
   "cell_type": "code",
   "execution_count": 6,
   "metadata": {},
   "outputs": [],
   "source": [
    "s2 = s1.sort_values()"
   ]
  },
  {
   "cell_type": "code",
   "execution_count": 7,
   "metadata": {},
   "outputs": [
    {
     "data": {
      "text/plain": [
       "0   -1.579217\n",
       "8   -1.284728\n",
       "1   -0.780550\n",
       "4   -0.587725\n",
       "5   -0.315136\n",
       "6   -0.009403\n",
       "3    0.011472\n",
       "9    0.286088\n",
       "2    0.358587\n",
       "7    1.203433\n",
       "dtype: float64"
      ]
     },
     "execution_count": 7,
     "metadata": {},
     "output_type": "execute_result"
    }
   ],
   "source": [
    "s2"
   ]
  },
  {
   "cell_type": "code",
   "execution_count": 8,
   "metadata": {},
   "outputs": [],
   "source": [
    "s2 = s1.sort_values(ascending=False)"
   ]
  },
  {
   "cell_type": "code",
   "execution_count": 9,
   "metadata": {},
   "outputs": [
    {
     "data": {
      "text/plain": [
       "7    1.203433\n",
       "2    0.358587\n",
       "9    0.286088\n",
       "3    0.011472\n",
       "6   -0.009403\n",
       "5   -0.315136\n",
       "4   -0.587725\n",
       "1   -0.780550\n",
       "8   -1.284728\n",
       "0   -1.579217\n",
       "dtype: float64"
      ]
     },
     "execution_count": 9,
     "metadata": {},
     "output_type": "execute_result"
    }
   ],
   "source": [
    "s2"
   ]
  },
  {
   "cell_type": "markdown",
   "metadata": {},
   "source": [
    "按照index排序"
   ]
  },
  {
   "cell_type": "code",
   "execution_count": 10,
   "metadata": {},
   "outputs": [
    {
     "data": {
      "text/plain": [
       "0   -1.579217\n",
       "1   -0.780550\n",
       "2    0.358587\n",
       "3    0.011472\n",
       "4   -0.587725\n",
       "5   -0.315136\n",
       "6   -0.009403\n",
       "7    1.203433\n",
       "8   -1.284728\n",
       "9    0.286088\n",
       "dtype: float64"
      ]
     },
     "execution_count": 10,
     "metadata": {},
     "output_type": "execute_result"
    }
   ],
   "source": [
    "s2.sort_index()"
   ]
  },
  {
   "cell_type": "markdown",
   "metadata": {},
   "source": [
    "# Dataframe的排序"
   ]
  },
  {
   "cell_type": "code",
   "execution_count": 13,
   "metadata": {},
   "outputs": [],
   "source": [
    "df1 = DataFrame(np.random.randn(40).reshape(8,5), columns=['A','B','C','D','E'])"
   ]
  },
  {
   "cell_type": "code",
   "execution_count": 14,
   "metadata": {},
   "outputs": [
    {
     "data": {
      "text/html": [
       "<div>\n",
       "<style scoped>\n",
       "    .dataframe tbody tr th:only-of-type {\n",
       "        vertical-align: middle;\n",
       "    }\n",
       "\n",
       "    .dataframe tbody tr th {\n",
       "        vertical-align: top;\n",
       "    }\n",
       "\n",
       "    .dataframe thead th {\n",
       "        text-align: right;\n",
       "    }\n",
       "</style>\n",
       "<table border=\"1\" class=\"dataframe\">\n",
       "  <thead>\n",
       "    <tr style=\"text-align: right;\">\n",
       "      <th></th>\n",
       "      <th>A</th>\n",
       "      <th>B</th>\n",
       "      <th>C</th>\n",
       "      <th>D</th>\n",
       "      <th>E</th>\n",
       "    </tr>\n",
       "  </thead>\n",
       "  <tbody>\n",
       "    <tr>\n",
       "      <th>0</th>\n",
       "      <td>-1.692292</td>\n",
       "      <td>0.696616</td>\n",
       "      <td>0.884704</td>\n",
       "      <td>0.800174</td>\n",
       "      <td>-0.394549</td>\n",
       "    </tr>\n",
       "    <tr>\n",
       "      <th>1</th>\n",
       "      <td>0.402417</td>\n",
       "      <td>-0.489005</td>\n",
       "      <td>0.245780</td>\n",
       "      <td>-1.330334</td>\n",
       "      <td>0.964391</td>\n",
       "    </tr>\n",
       "    <tr>\n",
       "      <th>2</th>\n",
       "      <td>-1.034793</td>\n",
       "      <td>0.007494</td>\n",
       "      <td>0.557925</td>\n",
       "      <td>-0.367578</td>\n",
       "      <td>0.153251</td>\n",
       "    </tr>\n",
       "    <tr>\n",
       "      <th>3</th>\n",
       "      <td>0.449197</td>\n",
       "      <td>-1.238600</td>\n",
       "      <td>0.738746</td>\n",
       "      <td>-0.531087</td>\n",
       "      <td>1.675060</td>\n",
       "    </tr>\n",
       "    <tr>\n",
       "      <th>4</th>\n",
       "      <td>-0.049439</td>\n",
       "      <td>1.779549</td>\n",
       "      <td>-1.018408</td>\n",
       "      <td>1.494279</td>\n",
       "      <td>1.140652</td>\n",
       "    </tr>\n",
       "    <tr>\n",
       "      <th>5</th>\n",
       "      <td>-0.090836</td>\n",
       "      <td>-0.336204</td>\n",
       "      <td>1.100267</td>\n",
       "      <td>0.073224</td>\n",
       "      <td>1.980527</td>\n",
       "    </tr>\n",
       "    <tr>\n",
       "      <th>6</th>\n",
       "      <td>0.797402</td>\n",
       "      <td>-0.618668</td>\n",
       "      <td>0.553781</td>\n",
       "      <td>-0.308470</td>\n",
       "      <td>-1.594297</td>\n",
       "    </tr>\n",
       "    <tr>\n",
       "      <th>7</th>\n",
       "      <td>0.937401</td>\n",
       "      <td>1.258807</td>\n",
       "      <td>0.105930</td>\n",
       "      <td>-1.828484</td>\n",
       "      <td>-1.447500</td>\n",
       "    </tr>\n",
       "  </tbody>\n",
       "</table>\n",
       "</div>"
      ],
      "text/plain": [
       "          A         B         C         D         E\n",
       "0 -1.692292  0.696616  0.884704  0.800174 -0.394549\n",
       "1  0.402417 -0.489005  0.245780 -1.330334  0.964391\n",
       "2 -1.034793  0.007494  0.557925 -0.367578  0.153251\n",
       "3  0.449197 -1.238600  0.738746 -0.531087  1.675060\n",
       "4 -0.049439  1.779549 -1.018408  1.494279  1.140652\n",
       "5 -0.090836 -0.336204  1.100267  0.073224  1.980527\n",
       "6  0.797402 -0.618668  0.553781 -0.308470 -1.594297\n",
       "7  0.937401  1.258807  0.105930 -1.828484 -1.447500"
      ]
     },
     "execution_count": 14,
     "metadata": {},
     "output_type": "execute_result"
    }
   ],
   "source": [
    "df1"
   ]
  },
  {
   "cell_type": "code",
   "execution_count": 16,
   "metadata": {},
   "outputs": [
    {
     "data": {
      "text/plain": [
       "0   -1.692292\n",
       "2   -1.034793\n",
       "5   -0.090836\n",
       "4   -0.049439\n",
       "1    0.402417\n",
       "3    0.449197\n",
       "6    0.797402\n",
       "7    0.937401\n",
       "Name: A, dtype: float64"
      ]
     },
     "execution_count": 16,
     "metadata": {},
     "output_type": "execute_result"
    }
   ],
   "source": [
    "df1['A'].sort_values()"
   ]
  },
  {
   "cell_type": "code",
   "execution_count": 17,
   "metadata": {},
   "outputs": [
    {
     "data": {
      "text/html": [
       "<div>\n",
       "<style scoped>\n",
       "    .dataframe tbody tr th:only-of-type {\n",
       "        vertical-align: middle;\n",
       "    }\n",
       "\n",
       "    .dataframe tbody tr th {\n",
       "        vertical-align: top;\n",
       "    }\n",
       "\n",
       "    .dataframe thead th {\n",
       "        text-align: right;\n",
       "    }\n",
       "</style>\n",
       "<table border=\"1\" class=\"dataframe\">\n",
       "  <thead>\n",
       "    <tr style=\"text-align: right;\">\n",
       "      <th></th>\n",
       "      <th>A</th>\n",
       "      <th>B</th>\n",
       "      <th>C</th>\n",
       "      <th>D</th>\n",
       "      <th>E</th>\n",
       "    </tr>\n",
       "  </thead>\n",
       "  <tbody>\n",
       "    <tr>\n",
       "      <th>0</th>\n",
       "      <td>-1.692292</td>\n",
       "      <td>0.696616</td>\n",
       "      <td>0.884704</td>\n",
       "      <td>0.800174</td>\n",
       "      <td>-0.394549</td>\n",
       "    </tr>\n",
       "    <tr>\n",
       "      <th>2</th>\n",
       "      <td>-1.034793</td>\n",
       "      <td>0.007494</td>\n",
       "      <td>0.557925</td>\n",
       "      <td>-0.367578</td>\n",
       "      <td>0.153251</td>\n",
       "    </tr>\n",
       "    <tr>\n",
       "      <th>5</th>\n",
       "      <td>-0.090836</td>\n",
       "      <td>-0.336204</td>\n",
       "      <td>1.100267</td>\n",
       "      <td>0.073224</td>\n",
       "      <td>1.980527</td>\n",
       "    </tr>\n",
       "    <tr>\n",
       "      <th>4</th>\n",
       "      <td>-0.049439</td>\n",
       "      <td>1.779549</td>\n",
       "      <td>-1.018408</td>\n",
       "      <td>1.494279</td>\n",
       "      <td>1.140652</td>\n",
       "    </tr>\n",
       "    <tr>\n",
       "      <th>1</th>\n",
       "      <td>0.402417</td>\n",
       "      <td>-0.489005</td>\n",
       "      <td>0.245780</td>\n",
       "      <td>-1.330334</td>\n",
       "      <td>0.964391</td>\n",
       "    </tr>\n",
       "    <tr>\n",
       "      <th>3</th>\n",
       "      <td>0.449197</td>\n",
       "      <td>-1.238600</td>\n",
       "      <td>0.738746</td>\n",
       "      <td>-0.531087</td>\n",
       "      <td>1.675060</td>\n",
       "    </tr>\n",
       "    <tr>\n",
       "      <th>6</th>\n",
       "      <td>0.797402</td>\n",
       "      <td>-0.618668</td>\n",
       "      <td>0.553781</td>\n",
       "      <td>-0.308470</td>\n",
       "      <td>-1.594297</td>\n",
       "    </tr>\n",
       "    <tr>\n",
       "      <th>7</th>\n",
       "      <td>0.937401</td>\n",
       "      <td>1.258807</td>\n",
       "      <td>0.105930</td>\n",
       "      <td>-1.828484</td>\n",
       "      <td>-1.447500</td>\n",
       "    </tr>\n",
       "  </tbody>\n",
       "</table>\n",
       "</div>"
      ],
      "text/plain": [
       "          A         B         C         D         E\n",
       "0 -1.692292  0.696616  0.884704  0.800174 -0.394549\n",
       "2 -1.034793  0.007494  0.557925 -0.367578  0.153251\n",
       "5 -0.090836 -0.336204  1.100267  0.073224  1.980527\n",
       "4 -0.049439  1.779549 -1.018408  1.494279  1.140652\n",
       "1  0.402417 -0.489005  0.245780 -1.330334  0.964391\n",
       "3  0.449197 -1.238600  0.738746 -0.531087  1.675060\n",
       "6  0.797402 -0.618668  0.553781 -0.308470 -1.594297\n",
       "7  0.937401  1.258807  0.105930 -1.828484 -1.447500"
      ]
     },
     "execution_count": 17,
     "metadata": {},
     "output_type": "execute_result"
    }
   ],
   "source": [
    "df1.sort_values('A')"
   ]
  },
  {
   "cell_type": "code",
   "execution_count": 18,
   "metadata": {},
   "outputs": [],
   "source": [
    "df2 = df1.sort_values('A')"
   ]
  },
  {
   "cell_type": "code",
   "execution_count": 19,
   "metadata": {},
   "outputs": [
    {
     "data": {
      "text/html": [
       "<div>\n",
       "<style scoped>\n",
       "    .dataframe tbody tr th:only-of-type {\n",
       "        vertical-align: middle;\n",
       "    }\n",
       "\n",
       "    .dataframe tbody tr th {\n",
       "        vertical-align: top;\n",
       "    }\n",
       "\n",
       "    .dataframe thead th {\n",
       "        text-align: right;\n",
       "    }\n",
       "</style>\n",
       "<table border=\"1\" class=\"dataframe\">\n",
       "  <thead>\n",
       "    <tr style=\"text-align: right;\">\n",
       "      <th></th>\n",
       "      <th>A</th>\n",
       "      <th>B</th>\n",
       "      <th>C</th>\n",
       "      <th>D</th>\n",
       "      <th>E</th>\n",
       "    </tr>\n",
       "  </thead>\n",
       "  <tbody>\n",
       "    <tr>\n",
       "      <th>0</th>\n",
       "      <td>-1.692292</td>\n",
       "      <td>0.696616</td>\n",
       "      <td>0.884704</td>\n",
       "      <td>0.800174</td>\n",
       "      <td>-0.394549</td>\n",
       "    </tr>\n",
       "    <tr>\n",
       "      <th>2</th>\n",
       "      <td>-1.034793</td>\n",
       "      <td>0.007494</td>\n",
       "      <td>0.557925</td>\n",
       "      <td>-0.367578</td>\n",
       "      <td>0.153251</td>\n",
       "    </tr>\n",
       "    <tr>\n",
       "      <th>5</th>\n",
       "      <td>-0.090836</td>\n",
       "      <td>-0.336204</td>\n",
       "      <td>1.100267</td>\n",
       "      <td>0.073224</td>\n",
       "      <td>1.980527</td>\n",
       "    </tr>\n",
       "    <tr>\n",
       "      <th>4</th>\n",
       "      <td>-0.049439</td>\n",
       "      <td>1.779549</td>\n",
       "      <td>-1.018408</td>\n",
       "      <td>1.494279</td>\n",
       "      <td>1.140652</td>\n",
       "    </tr>\n",
       "    <tr>\n",
       "      <th>1</th>\n",
       "      <td>0.402417</td>\n",
       "      <td>-0.489005</td>\n",
       "      <td>0.245780</td>\n",
       "      <td>-1.330334</td>\n",
       "      <td>0.964391</td>\n",
       "    </tr>\n",
       "    <tr>\n",
       "      <th>3</th>\n",
       "      <td>0.449197</td>\n",
       "      <td>-1.238600</td>\n",
       "      <td>0.738746</td>\n",
       "      <td>-0.531087</td>\n",
       "      <td>1.675060</td>\n",
       "    </tr>\n",
       "    <tr>\n",
       "      <th>6</th>\n",
       "      <td>0.797402</td>\n",
       "      <td>-0.618668</td>\n",
       "      <td>0.553781</td>\n",
       "      <td>-0.308470</td>\n",
       "      <td>-1.594297</td>\n",
       "    </tr>\n",
       "    <tr>\n",
       "      <th>7</th>\n",
       "      <td>0.937401</td>\n",
       "      <td>1.258807</td>\n",
       "      <td>0.105930</td>\n",
       "      <td>-1.828484</td>\n",
       "      <td>-1.447500</td>\n",
       "    </tr>\n",
       "  </tbody>\n",
       "</table>\n",
       "</div>"
      ],
      "text/plain": [
       "          A         B         C         D         E\n",
       "0 -1.692292  0.696616  0.884704  0.800174 -0.394549\n",
       "2 -1.034793  0.007494  0.557925 -0.367578  0.153251\n",
       "5 -0.090836 -0.336204  1.100267  0.073224  1.980527\n",
       "4 -0.049439  1.779549 -1.018408  1.494279  1.140652\n",
       "1  0.402417 -0.489005  0.245780 -1.330334  0.964391\n",
       "3  0.449197 -1.238600  0.738746 -0.531087  1.675060\n",
       "6  0.797402 -0.618668  0.553781 -0.308470 -1.594297\n",
       "7  0.937401  1.258807  0.105930 -1.828484 -1.447500"
      ]
     },
     "execution_count": 19,
     "metadata": {},
     "output_type": "execute_result"
    }
   ],
   "source": [
    "df2"
   ]
  },
  {
   "cell_type": "code",
   "execution_count": 20,
   "metadata": {},
   "outputs": [
    {
     "data": {
      "text/html": [
       "<div>\n",
       "<style scoped>\n",
       "    .dataframe tbody tr th:only-of-type {\n",
       "        vertical-align: middle;\n",
       "    }\n",
       "\n",
       "    .dataframe tbody tr th {\n",
       "        vertical-align: top;\n",
       "    }\n",
       "\n",
       "    .dataframe thead th {\n",
       "        text-align: right;\n",
       "    }\n",
       "</style>\n",
       "<table border=\"1\" class=\"dataframe\">\n",
       "  <thead>\n",
       "    <tr style=\"text-align: right;\">\n",
       "      <th></th>\n",
       "      <th>A</th>\n",
       "      <th>B</th>\n",
       "      <th>C</th>\n",
       "      <th>D</th>\n",
       "      <th>E</th>\n",
       "    </tr>\n",
       "  </thead>\n",
       "  <tbody>\n",
       "    <tr>\n",
       "      <th>0</th>\n",
       "      <td>-1.692292</td>\n",
       "      <td>0.696616</td>\n",
       "      <td>0.884704</td>\n",
       "      <td>0.800174</td>\n",
       "      <td>-0.394549</td>\n",
       "    </tr>\n",
       "    <tr>\n",
       "      <th>1</th>\n",
       "      <td>0.402417</td>\n",
       "      <td>-0.489005</td>\n",
       "      <td>0.245780</td>\n",
       "      <td>-1.330334</td>\n",
       "      <td>0.964391</td>\n",
       "    </tr>\n",
       "    <tr>\n",
       "      <th>2</th>\n",
       "      <td>-1.034793</td>\n",
       "      <td>0.007494</td>\n",
       "      <td>0.557925</td>\n",
       "      <td>-0.367578</td>\n",
       "      <td>0.153251</td>\n",
       "    </tr>\n",
       "    <tr>\n",
       "      <th>3</th>\n",
       "      <td>0.449197</td>\n",
       "      <td>-1.238600</td>\n",
       "      <td>0.738746</td>\n",
       "      <td>-0.531087</td>\n",
       "      <td>1.675060</td>\n",
       "    </tr>\n",
       "    <tr>\n",
       "      <th>4</th>\n",
       "      <td>-0.049439</td>\n",
       "      <td>1.779549</td>\n",
       "      <td>-1.018408</td>\n",
       "      <td>1.494279</td>\n",
       "      <td>1.140652</td>\n",
       "    </tr>\n",
       "    <tr>\n",
       "      <th>5</th>\n",
       "      <td>-0.090836</td>\n",
       "      <td>-0.336204</td>\n",
       "      <td>1.100267</td>\n",
       "      <td>0.073224</td>\n",
       "      <td>1.980527</td>\n",
       "    </tr>\n",
       "    <tr>\n",
       "      <th>6</th>\n",
       "      <td>0.797402</td>\n",
       "      <td>-0.618668</td>\n",
       "      <td>0.553781</td>\n",
       "      <td>-0.308470</td>\n",
       "      <td>-1.594297</td>\n",
       "    </tr>\n",
       "    <tr>\n",
       "      <th>7</th>\n",
       "      <td>0.937401</td>\n",
       "      <td>1.258807</td>\n",
       "      <td>0.105930</td>\n",
       "      <td>-1.828484</td>\n",
       "      <td>-1.447500</td>\n",
       "    </tr>\n",
       "  </tbody>\n",
       "</table>\n",
       "</div>"
      ],
      "text/plain": [
       "          A         B         C         D         E\n",
       "0 -1.692292  0.696616  0.884704  0.800174 -0.394549\n",
       "1  0.402417 -0.489005  0.245780 -1.330334  0.964391\n",
       "2 -1.034793  0.007494  0.557925 -0.367578  0.153251\n",
       "3  0.449197 -1.238600  0.738746 -0.531087  1.675060\n",
       "4 -0.049439  1.779549 -1.018408  1.494279  1.140652\n",
       "5 -0.090836 -0.336204  1.100267  0.073224  1.980527\n",
       "6  0.797402 -0.618668  0.553781 -0.308470 -1.594297\n",
       "7  0.937401  1.258807  0.105930 -1.828484 -1.447500"
      ]
     },
     "execution_count": 20,
     "metadata": {},
     "output_type": "execute_result"
    }
   ],
   "source": [
    "df2.sort_index()"
   ]
  },
  {
   "cell_type": "code",
   "execution_count": null,
   "metadata": {},
   "outputs": [],
   "source": []
  }
 ],
 "metadata": {
  "kernelspec": {
   "display_name": "Python 3",
   "language": "python",
   "name": "python3"
  },
  "language_info": {
   "codemirror_mode": {
    "name": "ipython",
    "version": 3
   },
   "file_extension": ".py",
   "mimetype": "text/x-python",
   "name": "python",
   "nbconvert_exporter": "python",
   "pygments_lexer": "ipython3",
   "version": "3.7.6"
  }
 },
 "nbformat": 4,
 "nbformat_minor": 4
}
