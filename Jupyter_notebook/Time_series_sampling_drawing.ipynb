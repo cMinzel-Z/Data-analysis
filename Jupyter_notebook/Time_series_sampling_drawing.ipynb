{
 "cells": [
  {
   "cell_type": "code",
   "execution_count": 1,
   "metadata": {},
   "outputs": [],
   "source": [
    "import numpy as np\n",
    "import pandas as pd\n",
    "from pandas import Series, DataFrame"
   ]
  },
  {
   "cell_type": "code",
   "execution_count": 2,
   "metadata": {},
   "outputs": [],
   "source": [
    "t_range = pd.date_range('2016-01-01','2016-12-31')"
   ]
  },
  {
   "cell_type": "code",
   "execution_count": 3,
   "metadata": {},
   "outputs": [
    {
     "data": {
      "text/plain": [
       "DatetimeIndex(['2016-01-01', '2016-01-02', '2016-01-03', '2016-01-04',\n",
       "               '2016-01-05', '2016-01-06', '2016-01-07', '2016-01-08',\n",
       "               '2016-01-09', '2016-01-10',\n",
       "               ...\n",
       "               '2016-12-22', '2016-12-23', '2016-12-24', '2016-12-25',\n",
       "               '2016-12-26', '2016-12-27', '2016-12-28', '2016-12-29',\n",
       "               '2016-12-30', '2016-12-31'],\n",
       "              dtype='datetime64[ns]', length=366, freq='D')"
      ]
     },
     "execution_count": 3,
     "metadata": {},
     "output_type": "execute_result"
    }
   ],
   "source": [
    "t_range"
   ]
  },
  {
   "cell_type": "code",
   "execution_count": 4,
   "metadata": {},
   "outputs": [],
   "source": [
    "s1 = Series(np.random.randn(len(t_range)),index=t_range)"
   ]
  },
  {
   "cell_type": "code",
   "execution_count": 5,
   "metadata": {},
   "outputs": [
    {
     "data": {
      "text/plain": [
       "2016-01-01    0.555138\n",
       "2016-01-02    0.107055\n",
       "2016-01-03   -0.154747\n",
       "2016-01-04    0.578755\n",
       "2016-01-05   -1.378379\n",
       "                ...   \n",
       "2016-12-27    1.281895\n",
       "2016-12-28   -2.098584\n",
       "2016-12-29    1.197255\n",
       "2016-12-30   -0.019559\n",
       "2016-12-31    0.546788\n",
       "Freq: D, Length: 366, dtype: float64"
      ]
     },
     "execution_count": 5,
     "metadata": {},
     "output_type": "execute_result"
    }
   ],
   "source": [
    "s1"
   ]
  },
  {
   "cell_type": "code",
   "execution_count": 6,
   "metadata": {},
   "outputs": [
    {
     "data": {
      "text/plain": [
       "2016-01-01    0.555138\n",
       "2016-01-02    0.107055\n",
       "2016-01-03   -0.154747\n",
       "2016-01-04    0.578755\n",
       "2016-01-05   -1.378379\n",
       "2016-01-06    0.776765\n",
       "2016-01-07    0.750130\n",
       "2016-01-08   -2.137592\n",
       "2016-01-09    0.275218\n",
       "2016-01-10   -0.367056\n",
       "2016-01-11   -0.221902\n",
       "2016-01-12   -1.049911\n",
       "2016-01-13   -0.274948\n",
       "2016-01-14   -0.395769\n",
       "2016-01-15    0.215618\n",
       "2016-01-16    0.573482\n",
       "2016-01-17    0.262068\n",
       "2016-01-18   -0.537978\n",
       "2016-01-19   -0.499068\n",
       "2016-01-20    1.445457\n",
       "2016-01-21    1.028645\n",
       "2016-01-22    0.736016\n",
       "2016-01-23    0.547172\n",
       "2016-01-24   -0.420238\n",
       "2016-01-25    0.477542\n",
       "2016-01-26    1.581945\n",
       "2016-01-27    0.272759\n",
       "2016-01-28    0.237271\n",
       "2016-01-29    0.303914\n",
       "2016-01-30    0.476781\n",
       "2016-01-31    0.714579\n",
       "Freq: D, dtype: float64"
      ]
     },
     "execution_count": 6,
     "metadata": {},
     "output_type": "execute_result"
    }
   ],
   "source": [
    "s1['2016-01']"
   ]
  },
  {
   "cell_type": "code",
   "execution_count": 7,
   "metadata": {},
   "outputs": [
    {
     "data": {
      "text/plain": [
       "0.1444749962977377"
      ]
     },
     "execution_count": 7,
     "metadata": {},
     "output_type": "execute_result"
    }
   ],
   "source": [
    "s1['2016-01'].mean()"
   ]
  },
  {
   "cell_type": "code",
   "execution_count": 8,
   "metadata": {},
   "outputs": [],
   "source": [
    "s1_month = s1.resample('M').mean()"
   ]
  },
  {
   "cell_type": "code",
   "execution_count": 9,
   "metadata": {},
   "outputs": [
    {
     "data": {
      "text/plain": [
       "2016-01-31    0.144475\n",
       "2016-02-29   -0.139233\n",
       "2016-03-31    0.033614\n",
       "2016-04-30    0.165556\n",
       "2016-05-31   -0.116573\n",
       "2016-06-30    0.069882\n",
       "2016-07-31    0.063574\n",
       "2016-08-31   -0.347215\n",
       "2016-09-30    0.149487\n",
       "2016-10-31    0.174698\n",
       "2016-11-30    0.022913\n",
       "2016-12-31    0.053382\n",
       "Freq: M, dtype: float64"
      ]
     },
     "execution_count": 9,
     "metadata": {},
     "output_type": "execute_result"
    }
   ],
   "source": [
    "s1_month"
   ]
  },
  {
   "cell_type": "code",
   "execution_count": 10,
   "metadata": {},
   "outputs": [
    {
     "data": {
      "text/plain": [
       "DatetimeIndex(['2016-01-31', '2016-02-29', '2016-03-31', '2016-04-30',\n",
       "               '2016-05-31', '2016-06-30', '2016-07-31', '2016-08-31',\n",
       "               '2016-09-30', '2016-10-31', '2016-11-30', '2016-12-31'],\n",
       "              dtype='datetime64[ns]', freq='M')"
      ]
     },
     "execution_count": 10,
     "metadata": {},
     "output_type": "execute_result"
    }
   ],
   "source": [
    "s1_month.index"
   ]
  },
  {
   "cell_type": "code",
   "execution_count": 11,
   "metadata": {},
   "outputs": [
    {
     "data": {
      "text/plain": [
       "2016-01-01 00:00:00    0.555138\n",
       "2016-01-01 01:00:00    0.555138\n",
       "2016-01-01 02:00:00    0.555138\n",
       "2016-01-01 03:00:00    0.555138\n",
       "2016-01-01 04:00:00    0.555138\n",
       "                         ...   \n",
       "2016-12-30 20:00:00   -0.019559\n",
       "2016-12-30 21:00:00   -0.019559\n",
       "2016-12-30 22:00:00   -0.019559\n",
       "2016-12-30 23:00:00   -0.019559\n",
       "2016-12-31 00:00:00    0.546788\n",
       "Freq: H, Length: 8761, dtype: float64"
      ]
     },
     "execution_count": 11,
     "metadata": {},
     "output_type": "execute_result"
    }
   ],
   "source": [
    "s1.resample('H').ffill()"
   ]
  },
  {
   "cell_type": "code",
   "execution_count": 12,
   "metadata": {},
   "outputs": [
    {
     "data": {
      "text/plain": [
       "2016-01-01 00:00:00    0.555138\n",
       "2016-01-01 01:00:00    0.107055\n",
       "2016-01-01 02:00:00    0.107055\n",
       "2016-01-01 03:00:00    0.107055\n",
       "2016-01-01 04:00:00    0.107055\n",
       "                         ...   \n",
       "2016-12-30 20:00:00    0.546788\n",
       "2016-12-30 21:00:00    0.546788\n",
       "2016-12-30 22:00:00    0.546788\n",
       "2016-12-30 23:00:00    0.546788\n",
       "2016-12-31 00:00:00    0.546788\n",
       "Freq: H, Length: 8761, dtype: float64"
      ]
     },
     "execution_count": 12,
     "metadata": {},
     "output_type": "execute_result"
    }
   ],
   "source": [
    "s1.resample('H').bfill()"
   ]
  },
  {
   "cell_type": "code",
   "execution_count": 13,
   "metadata": {},
   "outputs": [],
   "source": [
    "t_range = pd.date_range('2016-01-01','2016-12-31',freq='H')"
   ]
  },
  {
   "cell_type": "code",
   "execution_count": 14,
   "metadata": {},
   "outputs": [
    {
     "data": {
      "text/plain": [
       "DatetimeIndex(['2016-01-01 00:00:00', '2016-01-01 01:00:00',\n",
       "               '2016-01-01 02:00:00', '2016-01-01 03:00:00',\n",
       "               '2016-01-01 04:00:00', '2016-01-01 05:00:00',\n",
       "               '2016-01-01 06:00:00', '2016-01-01 07:00:00',\n",
       "               '2016-01-01 08:00:00', '2016-01-01 09:00:00',\n",
       "               ...\n",
       "               '2016-12-30 15:00:00', '2016-12-30 16:00:00',\n",
       "               '2016-12-30 17:00:00', '2016-12-30 18:00:00',\n",
       "               '2016-12-30 19:00:00', '2016-12-30 20:00:00',\n",
       "               '2016-12-30 21:00:00', '2016-12-30 22:00:00',\n",
       "               '2016-12-30 23:00:00', '2016-12-31 00:00:00'],\n",
       "              dtype='datetime64[ns]', length=8761, freq='H')"
      ]
     },
     "execution_count": 14,
     "metadata": {},
     "output_type": "execute_result"
    }
   ],
   "source": [
    "t_range"
   ]
  },
  {
   "cell_type": "code",
   "execution_count": 15,
   "metadata": {},
   "outputs": [],
   "source": [
    "stock_df = DataFrame(index=t_range)"
   ]
  },
  {
   "cell_type": "code",
   "execution_count": 17,
   "metadata": {},
   "outputs": [],
   "source": [
    "stock_df['ALBB'] = np.random.randint(80,160,size=len(t_range))"
   ]
  },
  {
   "cell_type": "code",
   "execution_count": 18,
   "metadata": {},
   "outputs": [],
   "source": [
    "stock_df['TX'] = np.random.randint(30,50,size=len(t_range))"
   ]
  },
  {
   "cell_type": "code",
   "execution_count": 19,
   "metadata": {},
   "outputs": [
    {
     "data": {
      "text/html": [
       "<div>\n",
       "<style scoped>\n",
       "    .dataframe tbody tr th:only-of-type {\n",
       "        vertical-align: middle;\n",
       "    }\n",
       "\n",
       "    .dataframe tbody tr th {\n",
       "        vertical-align: top;\n",
       "    }\n",
       "\n",
       "    .dataframe thead th {\n",
       "        text-align: right;\n",
       "    }\n",
       "</style>\n",
       "<table border=\"1\" class=\"dataframe\">\n",
       "  <thead>\n",
       "    <tr style=\"text-align: right;\">\n",
       "      <th></th>\n",
       "      <th>ALBB</th>\n",
       "      <th>TX</th>\n",
       "    </tr>\n",
       "  </thead>\n",
       "  <tbody>\n",
       "    <tr>\n",
       "      <th>2016-01-01 00:00:00</th>\n",
       "      <td>127</td>\n",
       "      <td>31</td>\n",
       "    </tr>\n",
       "    <tr>\n",
       "      <th>2016-01-01 01:00:00</th>\n",
       "      <td>100</td>\n",
       "      <td>34</td>\n",
       "    </tr>\n",
       "    <tr>\n",
       "      <th>2016-01-01 02:00:00</th>\n",
       "      <td>143</td>\n",
       "      <td>33</td>\n",
       "    </tr>\n",
       "    <tr>\n",
       "      <th>2016-01-01 03:00:00</th>\n",
       "      <td>129</td>\n",
       "      <td>30</td>\n",
       "    </tr>\n",
       "    <tr>\n",
       "      <th>2016-01-01 04:00:00</th>\n",
       "      <td>104</td>\n",
       "      <td>31</td>\n",
       "    </tr>\n",
       "    <tr>\n",
       "      <th>...</th>\n",
       "      <td>...</td>\n",
       "      <td>...</td>\n",
       "    </tr>\n",
       "    <tr>\n",
       "      <th>2016-12-30 20:00:00</th>\n",
       "      <td>119</td>\n",
       "      <td>38</td>\n",
       "    </tr>\n",
       "    <tr>\n",
       "      <th>2016-12-30 21:00:00</th>\n",
       "      <td>115</td>\n",
       "      <td>32</td>\n",
       "    </tr>\n",
       "    <tr>\n",
       "      <th>2016-12-30 22:00:00</th>\n",
       "      <td>144</td>\n",
       "      <td>38</td>\n",
       "    </tr>\n",
       "    <tr>\n",
       "      <th>2016-12-30 23:00:00</th>\n",
       "      <td>100</td>\n",
       "      <td>43</td>\n",
       "    </tr>\n",
       "    <tr>\n",
       "      <th>2016-12-31 00:00:00</th>\n",
       "      <td>114</td>\n",
       "      <td>35</td>\n",
       "    </tr>\n",
       "  </tbody>\n",
       "</table>\n",
       "<p>8761 rows × 2 columns</p>\n",
       "</div>"
      ],
      "text/plain": [
       "                     ALBB  TX\n",
       "2016-01-01 00:00:00   127  31\n",
       "2016-01-01 01:00:00   100  34\n",
       "2016-01-01 02:00:00   143  33\n",
       "2016-01-01 03:00:00   129  30\n",
       "2016-01-01 04:00:00   104  31\n",
       "...                   ...  ..\n",
       "2016-12-30 20:00:00   119  38\n",
       "2016-12-30 21:00:00   115  32\n",
       "2016-12-30 22:00:00   144  38\n",
       "2016-12-30 23:00:00   100  43\n",
       "2016-12-31 00:00:00   114  35\n",
       "\n",
       "[8761 rows x 2 columns]"
      ]
     },
     "execution_count": 19,
     "metadata": {},
     "output_type": "execute_result"
    }
   ],
   "source": [
    "stock_df"
   ]
  },
  {
   "cell_type": "code",
   "execution_count": 20,
   "metadata": {},
   "outputs": [
    {
     "data": {
      "text/plain": [
       "<matplotlib.axes._subplots.AxesSubplot at 0x1b92d9f9388>"
      ]
     },
     "execution_count": 20,
     "metadata": {},
     "output_type": "execute_result"
    },
    {
     "data": {
      "image/png": "[encoded data removed]",
      "text/plain": [
       "<Figure size 432x288 with 1 Axes>"
      ]
     },
     "metadata": {
      "needs_background": "light"
     },
     "output_type": "display_data"
    }
   ],
   "source": [
    "stock_df.plot()"
   ]
  },
  {
   "cell_type": "code",
   "execution_count": 23,
   "metadata": {},
   "outputs": [],
   "source": [
    "import matplotlib.pyplot as plt\n",
    "plt.show()"
   ]
  },
  {
   "cell_type": "code",
   "execution_count": 24,
   "metadata": {},
   "outputs": [],
   "source": [
    "weekly_df = DataFrame()"
   ]
  },
  {
   "cell_type": "code",
   "execution_count": 25,
   "metadata": {},
   "outputs": [],
   "source": [
    "weekly_df['ALBB'] = stock_df['ALBB'].resample('W').mean()"
   ]
  },
  {
   "cell_type": "code",
   "execution_count": 26,
   "metadata": {},
   "outputs": [],
   "source": [
    "weekly_df['TX'] = stock_df['TX'].resample('W').mean()"
   ]
  },
  {
   "cell_type": "code",
   "execution_count": 27,
   "metadata": {},
   "outputs": [
    {
     "data": {
      "text/html": [
       "<div>\n",
       "<style scoped>\n",
       "    .dataframe tbody tr th:only-of-type {\n",
       "        vertical-align: middle;\n",
       "    }\n",
       "\n",
       "    .dataframe tbody tr th {\n",
       "        vertical-align: top;\n",
       "    }\n",
       "\n",
       "    .dataframe thead th {\n",
       "        text-align: right;\n",
       "    }\n",
       "</style>\n",
       "<table border=\"1\" class=\"dataframe\">\n",
       "  <thead>\n",
       "    <tr style=\"text-align: right;\">\n",
       "      <th></th>\n",
       "      <th>ALBB</th>\n",
       "      <th>TX</th>\n",
       "    </tr>\n",
       "  </thead>\n",
       "  <tbody>\n",
       "    <tr>\n",
       "      <th>2016-01-03</th>\n",
       "      <td>123.013889</td>\n",
       "      <td>37.958333</td>\n",
       "    </tr>\n",
       "    <tr>\n",
       "      <th>2016-01-10</th>\n",
       "      <td>122.095238</td>\n",
       "      <td>39.785714</td>\n",
       "    </tr>\n",
       "    <tr>\n",
       "      <th>2016-01-17</th>\n",
       "      <td>121.726190</td>\n",
       "      <td>39.470238</td>\n",
       "    </tr>\n",
       "    <tr>\n",
       "      <th>2016-01-24</th>\n",
       "      <td>117.904762</td>\n",
       "      <td>39.261905</td>\n",
       "    </tr>\n",
       "    <tr>\n",
       "      <th>2016-01-31</th>\n",
       "      <td>117.065476</td>\n",
       "      <td>39.101190</td>\n",
       "    </tr>\n",
       "    <tr>\n",
       "      <th>2016-02-07</th>\n",
       "      <td>117.880952</td>\n",
       "      <td>39.035714</td>\n",
       "    </tr>\n",
       "    <tr>\n",
       "      <th>2016-02-14</th>\n",
       "      <td>119.511905</td>\n",
       "      <td>38.964286</td>\n",
       "    </tr>\n",
       "    <tr>\n",
       "      <th>2016-02-21</th>\n",
       "      <td>120.172619</td>\n",
       "      <td>40.398810</td>\n",
       "    </tr>\n",
       "    <tr>\n",
       "      <th>2016-02-28</th>\n",
       "      <td>118.279762</td>\n",
       "      <td>40.386905</td>\n",
       "    </tr>\n",
       "    <tr>\n",
       "      <th>2016-03-06</th>\n",
       "      <td>120.845238</td>\n",
       "      <td>39.726190</td>\n",
       "    </tr>\n",
       "    <tr>\n",
       "      <th>2016-03-13</th>\n",
       "      <td>118.648810</td>\n",
       "      <td>38.726190</td>\n",
       "    </tr>\n",
       "    <tr>\n",
       "      <th>2016-03-20</th>\n",
       "      <td>119.952381</td>\n",
       "      <td>39.523810</td>\n",
       "    </tr>\n",
       "    <tr>\n",
       "      <th>2016-03-27</th>\n",
       "      <td>118.291667</td>\n",
       "      <td>39.494048</td>\n",
       "    </tr>\n",
       "    <tr>\n",
       "      <th>2016-04-03</th>\n",
       "      <td>120.071429</td>\n",
       "      <td>39.672619</td>\n",
       "    </tr>\n",
       "    <tr>\n",
       "      <th>2016-04-10</th>\n",
       "      <td>120.976190</td>\n",
       "      <td>39.505952</td>\n",
       "    </tr>\n",
       "    <tr>\n",
       "      <th>2016-04-17</th>\n",
       "      <td>122.315476</td>\n",
       "      <td>39.452381</td>\n",
       "    </tr>\n",
       "    <tr>\n",
       "      <th>2016-04-24</th>\n",
       "      <td>119.476190</td>\n",
       "      <td>40.434524</td>\n",
       "    </tr>\n",
       "    <tr>\n",
       "      <th>2016-05-01</th>\n",
       "      <td>122.994048</td>\n",
       "      <td>39.059524</td>\n",
       "    </tr>\n",
       "    <tr>\n",
       "      <th>2016-05-08</th>\n",
       "      <td>118.089286</td>\n",
       "      <td>40.410714</td>\n",
       "    </tr>\n",
       "    <tr>\n",
       "      <th>2016-05-15</th>\n",
       "      <td>119.672619</td>\n",
       "      <td>39.369048</td>\n",
       "    </tr>\n",
       "    <tr>\n",
       "      <th>2016-05-22</th>\n",
       "      <td>118.476190</td>\n",
       "      <td>39.464286</td>\n",
       "    </tr>\n",
       "    <tr>\n",
       "      <th>2016-05-29</th>\n",
       "      <td>119.107143</td>\n",
       "      <td>39.422619</td>\n",
       "    </tr>\n",
       "    <tr>\n",
       "      <th>2016-06-05</th>\n",
       "      <td>118.791667</td>\n",
       "      <td>39.041667</td>\n",
       "    </tr>\n",
       "    <tr>\n",
       "      <th>2016-06-12</th>\n",
       "      <td>119.220238</td>\n",
       "      <td>40.232143</td>\n",
       "    </tr>\n",
       "    <tr>\n",
       "      <th>2016-06-19</th>\n",
       "      <td>122.285714</td>\n",
       "      <td>39.845238</td>\n",
       "    </tr>\n",
       "    <tr>\n",
       "      <th>2016-06-26</th>\n",
       "      <td>120.333333</td>\n",
       "      <td>39.571429</td>\n",
       "    </tr>\n",
       "    <tr>\n",
       "      <th>2016-07-03</th>\n",
       "      <td>118.607143</td>\n",
       "      <td>39.803571</td>\n",
       "    </tr>\n",
       "    <tr>\n",
       "      <th>2016-07-10</th>\n",
       "      <td>120.375000</td>\n",
       "      <td>39.178571</td>\n",
       "    </tr>\n",
       "    <tr>\n",
       "      <th>2016-07-17</th>\n",
       "      <td>122.630952</td>\n",
       "      <td>39.458333</td>\n",
       "    </tr>\n",
       "    <tr>\n",
       "      <th>2016-07-24</th>\n",
       "      <td>119.434524</td>\n",
       "      <td>39.386905</td>\n",
       "    </tr>\n",
       "    <tr>\n",
       "      <th>2016-07-31</th>\n",
       "      <td>122.148810</td>\n",
       "      <td>39.440476</td>\n",
       "    </tr>\n",
       "    <tr>\n",
       "      <th>2016-08-07</th>\n",
       "      <td>118.398810</td>\n",
       "      <td>39.910714</td>\n",
       "    </tr>\n",
       "    <tr>\n",
       "      <th>2016-08-14</th>\n",
       "      <td>120.904762</td>\n",
       "      <td>39.136905</td>\n",
       "    </tr>\n",
       "    <tr>\n",
       "      <th>2016-08-21</th>\n",
       "      <td>118.625000</td>\n",
       "      <td>40.029762</td>\n",
       "    </tr>\n",
       "    <tr>\n",
       "      <th>2016-08-28</th>\n",
       "      <td>122.636905</td>\n",
       "      <td>39.363095</td>\n",
       "    </tr>\n",
       "    <tr>\n",
       "      <th>2016-09-04</th>\n",
       "      <td>120.196429</td>\n",
       "      <td>39.720238</td>\n",
       "    </tr>\n",
       "    <tr>\n",
       "      <th>2016-09-11</th>\n",
       "      <td>121.107143</td>\n",
       "      <td>39.553571</td>\n",
       "    </tr>\n",
       "    <tr>\n",
       "      <th>2016-09-18</th>\n",
       "      <td>119.690476</td>\n",
       "      <td>39.482143</td>\n",
       "    </tr>\n",
       "    <tr>\n",
       "      <th>2016-09-25</th>\n",
       "      <td>118.696429</td>\n",
       "      <td>39.565476</td>\n",
       "    </tr>\n",
       "    <tr>\n",
       "      <th>2016-10-02</th>\n",
       "      <td>120.964286</td>\n",
       "      <td>40.136905</td>\n",
       "    </tr>\n",
       "    <tr>\n",
       "      <th>2016-10-09</th>\n",
       "      <td>120.190476</td>\n",
       "      <td>39.922619</td>\n",
       "    </tr>\n",
       "    <tr>\n",
       "      <th>2016-10-16</th>\n",
       "      <td>119.833333</td>\n",
       "      <td>39.160714</td>\n",
       "    </tr>\n",
       "    <tr>\n",
       "      <th>2016-10-23</th>\n",
       "      <td>118.559524</td>\n",
       "      <td>39.041667</td>\n",
       "    </tr>\n",
       "    <tr>\n",
       "      <th>2016-10-30</th>\n",
       "      <td>119.648810</td>\n",
       "      <td>39.619048</td>\n",
       "    </tr>\n",
       "    <tr>\n",
       "      <th>2016-11-06</th>\n",
       "      <td>120.791667</td>\n",
       "      <td>39.821429</td>\n",
       "    </tr>\n",
       "    <tr>\n",
       "      <th>2016-11-13</th>\n",
       "      <td>120.208333</td>\n",
       "      <td>39.523810</td>\n",
       "    </tr>\n",
       "    <tr>\n",
       "      <th>2016-11-20</th>\n",
       "      <td>120.738095</td>\n",
       "      <td>39.422619</td>\n",
       "    </tr>\n",
       "    <tr>\n",
       "      <th>2016-11-27</th>\n",
       "      <td>118.130952</td>\n",
       "      <td>39.339286</td>\n",
       "    </tr>\n",
       "    <tr>\n",
       "      <th>2016-12-04</th>\n",
       "      <td>122.261905</td>\n",
       "      <td>39.714286</td>\n",
       "    </tr>\n",
       "    <tr>\n",
       "      <th>2016-12-11</th>\n",
       "      <td>117.613095</td>\n",
       "      <td>39.202381</td>\n",
       "    </tr>\n",
       "    <tr>\n",
       "      <th>2016-12-18</th>\n",
       "      <td>118.869048</td>\n",
       "      <td>39.136905</td>\n",
       "    </tr>\n",
       "    <tr>\n",
       "      <th>2016-12-25</th>\n",
       "      <td>121.154762</td>\n",
       "      <td>38.928571</td>\n",
       "    </tr>\n",
       "    <tr>\n",
       "      <th>2017-01-01</th>\n",
       "      <td>117.033058</td>\n",
       "      <td>39.280992</td>\n",
       "    </tr>\n",
       "  </tbody>\n",
       "</table>\n",
       "</div>"
      ],
      "text/plain": [
       "                  ALBB         TX\n",
       "2016-01-03  123.013889  37.958333\n",
       "2016-01-10  122.095238  39.785714\n",
       "2016-01-17  121.726190  39.470238\n",
       "2016-01-24  117.904762  39.261905\n",
       "2016-01-31  117.065476  39.101190\n",
       "2016-02-07  117.880952  39.035714\n",
       "2016-02-14  119.511905  38.964286\n",
       "2016-02-21  120.172619  40.398810\n",
       "2016-02-28  118.279762  40.386905\n",
       "2016-03-06  120.845238  39.726190\n",
       "2016-03-13  118.648810  38.726190\n",
       "2016-03-20  119.952381  39.523810\n",
       "2016-03-27  118.291667  39.494048\n",
       "2016-04-03  120.071429  39.672619\n",
       "2016-04-10  120.976190  39.505952\n",
       "2016-04-17  122.315476  39.452381\n",
       "2016-04-24  119.476190  40.434524\n",
       "2016-05-01  122.994048  39.059524\n",
       "2016-05-08  118.089286  40.410714\n",
       "2016-05-15  119.672619  39.369048\n",
       "2016-05-22  118.476190  39.464286\n",
       "2016-05-29  119.107143  39.422619\n",
       "2016-06-05  118.791667  39.041667\n",
       "2016-06-12  119.220238  40.232143\n",
       "2016-06-19  122.285714  39.845238\n",
       "2016-06-26  120.333333  39.571429\n",
       "2016-07-03  118.607143  39.803571\n",
       "2016-07-10  120.375000  39.178571\n",
       "2016-07-17  122.630952  39.458333\n",
       "2016-07-24  119.434524  39.386905\n",
       "2016-07-31  122.148810  39.440476\n",
       "2016-08-07  118.398810  39.910714\n",
       "2016-08-14  120.904762  39.136905\n",
       "2016-08-21  118.625000  40.029762\n",
       "2016-08-28  122.636905  39.363095\n",
       "2016-09-04  120.196429  39.720238\n",
       "2016-09-11  121.107143  39.553571\n",
       "2016-09-18  119.690476  39.482143\n",
       "2016-09-25  118.696429  39.565476\n",
       "2016-10-02  120.964286  40.136905\n",
       "2016-10-09  120.190476  39.922619\n",
       "2016-10-16  119.833333  39.160714\n",
       "2016-10-23  118.559524  39.041667\n",
       "2016-10-30  119.648810  39.619048\n",
       "2016-11-06  120.791667  39.821429\n",
       "2016-11-13  120.208333  39.523810\n",
       "2016-11-20  120.738095  39.422619\n",
       "2016-11-27  118.130952  39.339286\n",
       "2016-12-04  122.261905  39.714286\n",
       "2016-12-11  117.613095  39.202381\n",
       "2016-12-18  118.869048  39.136905\n",
       "2016-12-25  121.154762  38.928571\n",
       "2017-01-01  117.033058  39.280992"
      ]
     },
     "execution_count": 27,
     "metadata": {},
     "output_type": "execute_result"
    }
   ],
   "source": [
    "weekly_df"
   ]
  },
  {
   "cell_type": "code",
   "execution_count": 28,
   "metadata": {},
   "outputs": [
    {
     "data": {
      "text/plain": [
       "<matplotlib.axes._subplots.AxesSubplot at 0x1b92ffe7c48>"
      ]
     },
     "execution_count": 28,
     "metadata": {},
     "output_type": "execute_result"
    },
    {
     "data": {
      "image/png": "[encoded data removed]",
      "text/plain": [
       "<Figure size 432x288 with 1 Axes>"
      ]
     },
     "metadata": {
      "needs_background": "light"
     },
     "output_type": "display_data"
    }
   ],
   "source": [
    "weekly_df.plot()"
   ]
  },
  {
   "cell_type": "code",
   "execution_count": 29,
   "metadata": {},
   "outputs": [],
   "source": [
    "plt.show()"
   ]
  },
  {
   "cell_type": "code",
   "execution_count": null,
   "metadata": {},
   "outputs": [],
   "source": []
  }
 ],
 "metadata": {
  "kernelspec": {
   "display_name": "Python 3",
   "language": "python",
   "name": "python3"
  },
  "language_info": {
   "codemirror_mode": {
    "name": "ipython",
    "version": 3
   },
   "file_extension": ".py",
   "mimetype": "text/x-python",
   "name": "python",
   "nbconvert_exporter": "python",
   "pygments_lexer": "ipython3",
   "version": "3.7.6"
  }
 },
 "nbformat": 4,
 "nbformat_minor": 4
}
