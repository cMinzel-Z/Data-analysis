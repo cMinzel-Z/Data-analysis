{
 "cells": [
  {
   "cell_type": "code",
   "execution_count": 1,
   "metadata": {},
   "outputs": [],
   "source": [
    "import numpy as np\n",
    "import pandas as pd\n",
    "import scipy.stats as ss"
   ]
  },
  {
   "cell_type": "code",
   "execution_count": 3,
   "metadata": {},
   "outputs": [],
   "source": [
    "df = pd.DataFrame({'A':ss.norm.rvs(size=10),'B':ss.norm.rvs(size=10),'C':ss.norm.rvs(size=10),'D':np.random.randint(low=0,high=2,size=10)})"
   ]
  },
  {
   "cell_type": "code",
   "execution_count": 4,
   "metadata": {},
   "outputs": [
    {
     "data": {
      "text/html": [
       "<div>\n",
       "<style scoped>\n",
       "    .dataframe tbody tr th:only-of-type {\n",
       "        vertical-align: middle;\n",
       "    }\n",
       "\n",
       "    .dataframe tbody tr th {\n",
       "        vertical-align: top;\n",
       "    }\n",
       "\n",
       "    .dataframe thead th {\n",
       "        text-align: right;\n",
       "    }\n",
       "</style>\n",
       "<table border=\"1\" class=\"dataframe\">\n",
       "  <thead>\n",
       "    <tr style=\"text-align: right;\">\n",
       "      <th></th>\n",
       "      <th>A</th>\n",
       "      <th>B</th>\n",
       "      <th>C</th>\n",
       "      <th>D</th>\n",
       "    </tr>\n",
       "  </thead>\n",
       "  <tbody>\n",
       "    <tr>\n",
       "      <th>0</th>\n",
       "      <td>-1.414159</td>\n",
       "      <td>-2.342991</td>\n",
       "      <td>-0.280619</td>\n",
       "      <td>0</td>\n",
       "    </tr>\n",
       "    <tr>\n",
       "      <th>1</th>\n",
       "      <td>-0.699956</td>\n",
       "      <td>-1.057047</td>\n",
       "      <td>1.934925</td>\n",
       "      <td>1</td>\n",
       "    </tr>\n",
       "    <tr>\n",
       "      <th>2</th>\n",
       "      <td>-1.938702</td>\n",
       "      <td>0.506251</td>\n",
       "      <td>-1.226774</td>\n",
       "      <td>1</td>\n",
       "    </tr>\n",
       "    <tr>\n",
       "      <th>3</th>\n",
       "      <td>-0.117380</td>\n",
       "      <td>0.469089</td>\n",
       "      <td>0.312033</td>\n",
       "      <td>1</td>\n",
       "    </tr>\n",
       "    <tr>\n",
       "      <th>4</th>\n",
       "      <td>-0.817622</td>\n",
       "      <td>-0.975774</td>\n",
       "      <td>-1.098236</td>\n",
       "      <td>0</td>\n",
       "    </tr>\n",
       "    <tr>\n",
       "      <th>5</th>\n",
       "      <td>-0.227278</td>\n",
       "      <td>-0.662887</td>\n",
       "      <td>-0.387319</td>\n",
       "      <td>0</td>\n",
       "    </tr>\n",
       "    <tr>\n",
       "      <th>6</th>\n",
       "      <td>-0.807011</td>\n",
       "      <td>0.077047</td>\n",
       "      <td>-0.784159</td>\n",
       "      <td>1</td>\n",
       "    </tr>\n",
       "    <tr>\n",
       "      <th>7</th>\n",
       "      <td>-0.976588</td>\n",
       "      <td>0.058781</td>\n",
       "      <td>1.216638</td>\n",
       "      <td>1</td>\n",
       "    </tr>\n",
       "    <tr>\n",
       "      <th>8</th>\n",
       "      <td>0.659450</td>\n",
       "      <td>-0.025512</td>\n",
       "      <td>-0.444237</td>\n",
       "      <td>0</td>\n",
       "    </tr>\n",
       "    <tr>\n",
       "      <th>9</th>\n",
       "      <td>-0.207010</td>\n",
       "      <td>0.674560</td>\n",
       "      <td>1.025777</td>\n",
       "      <td>0</td>\n",
       "    </tr>\n",
       "  </tbody>\n",
       "</table>\n",
       "</div>"
      ],
      "text/plain": [
       "          A         B         C  D\n",
       "0 -1.414159 -2.342991 -0.280619  0\n",
       "1 -0.699956 -1.057047  1.934925  1\n",
       "2 -1.938702  0.506251 -1.226774  1\n",
       "3 -0.117380  0.469089  0.312033  1\n",
       "4 -0.817622 -0.975774 -1.098236  0\n",
       "5 -0.227278 -0.662887 -0.387319  0\n",
       "6 -0.807011  0.077047 -0.784159  1\n",
       "7 -0.976588  0.058781  1.216638  1\n",
       "8  0.659450 -0.025512 -0.444237  0\n",
       "9 -0.207010  0.674560  1.025777  0"
      ]
     },
     "execution_count": 4,
     "metadata": {},
     "output_type": "execute_result"
    }
   ],
   "source": [
    "df"
   ]
  },
  {
   "cell_type": "code",
   "execution_count": 5,
   "metadata": {},
   "outputs": [],
   "source": [
    "from sklearn.svm import SVR"
   ]
  },
  {
   "cell_type": "code",
   "execution_count": 6,
   "metadata": {},
   "outputs": [],
   "source": [
    "from sklearn.tree import DecisionTreeRegressor"
   ]
  },
  {
   "cell_type": "code",
   "execution_count": 7,
   "metadata": {},
   "outputs": [],
   "source": [
    "# 特征\n",
    "X = df.loc[:,['A','B','C']]"
   ]
  },
  {
   "cell_type": "code",
   "execution_count": 8,
   "metadata": {},
   "outputs": [],
   "source": [
    "# 标注\n",
    "Y = df.loc[:,'D']"
   ]
  },
  {
   "cell_type": "code",
   "execution_count": 9,
   "metadata": {},
   "outputs": [],
   "source": [
    "from sklearn.feature_selection import SelectKBest,RFE,SelectFromModel"
   ]
  },
  {
   "cell_type": "markdown",
   "metadata": {},
   "source": [
    "# 过滤思想"
   ]
  },
  {
   "cell_type": "code",
   "execution_count": 10,
   "metadata": {},
   "outputs": [],
   "source": [
    "skb = SelectKBest(k=2)"
   ]
  },
  {
   "cell_type": "code",
   "execution_count": 11,
   "metadata": {},
   "outputs": [
    {
     "data": {
      "text/plain": [
       "SelectKBest(k=2, score_func=<function f_classif at 0x0000017C5963F678>)"
      ]
     },
     "execution_count": 11,
     "metadata": {},
     "output_type": "execute_result"
    }
   ],
   "source": [
    "skb.fit(X,Y)"
   ]
  },
  {
   "cell_type": "code",
   "execution_count": 13,
   "metadata": {},
   "outputs": [
    {
     "data": {
      "text/plain": [
       "array([[-1.41415851, -2.34299127],\n",
       "       [-0.69995556, -1.05704721],\n",
       "       [-1.93870171,  0.50625098],\n",
       "       [-0.11737991,  0.46908912],\n",
       "       [-0.81762226, -0.97577357],\n",
       "       [-0.22727809, -0.66288679],\n",
       "       [-0.80701088,  0.07704728],\n",
       "       [-0.97658826,  0.05878147],\n",
       "       [ 0.65945017, -0.02551245],\n",
       "       [-0.20700993,  0.67455979]])"
      ]
     },
     "execution_count": 13,
     "metadata": {},
     "output_type": "execute_result"
    }
   ],
   "source": [
    "skb.transform(X)"
   ]
  },
  {
   "cell_type": "markdown",
   "metadata": {},
   "source": [
    "# 包裹思想"
   ]
  },
  {
   "cell_type": "code",
   "execution_count": 14,
   "metadata": {},
   "outputs": [],
   "source": [
    "rfe = RFE(estimator=SVR(kernel='linear'),n_features_to_select=2,step=1)"
   ]
  },
  {
   "cell_type": "code",
   "execution_count": 16,
   "metadata": {},
   "outputs": [
    {
     "data": {
      "text/plain": [
       "array([[-1.41415851, -2.34299127],\n",
       "       [-0.69995556, -1.05704721],\n",
       "       [-1.93870171,  0.50625098],\n",
       "       [-0.11737991,  0.46908912],\n",
       "       [-0.81762226, -0.97577357],\n",
       "       [-0.22727809, -0.66288679],\n",
       "       [-0.80701088,  0.07704728],\n",
       "       [-0.97658826,  0.05878147],\n",
       "       [ 0.65945017, -0.02551245],\n",
       "       [-0.20700993,  0.67455979]])"
      ]
     },
     "execution_count": 16,
     "metadata": {},
     "output_type": "execute_result"
    }
   ],
   "source": [
    "rfe.fit_transform(X,Y)"
   ]
  },
  {
   "cell_type": "markdown",
   "metadata": {},
   "source": [
    "# 嵌入思想"
   ]
  },
  {
   "cell_type": "code",
   "execution_count": 17,
   "metadata": {},
   "outputs": [],
   "source": [
    "sfm = SelectFromModel(estimator=DecisionTreeRegressor(),threshold=0.1)"
   ]
  },
  {
   "cell_type": "code",
   "execution_count": 18,
   "metadata": {},
   "outputs": [
    {
     "data": {
      "text/plain": [
       "array([[-2.34299127, -0.28061933],\n",
       "       [-1.05704721,  1.93492532],\n",
       "       [ 0.50625098, -1.22677369],\n",
       "       [ 0.46908912,  0.31203257],\n",
       "       [-0.97577357, -1.09823629],\n",
       "       [-0.66288679, -0.38731926],\n",
       "       [ 0.07704728, -0.78415903],\n",
       "       [ 0.05878147,  1.21663817],\n",
       "       [-0.02551245, -0.44423674],\n",
       "       [ 0.67455979,  1.02577666]])"
      ]
     },
     "execution_count": 18,
     "metadata": {},
     "output_type": "execute_result"
    }
   ],
   "source": [
    "sfm.fit_transform(X,Y)"
   ]
  },
  {
   "cell_type": "code",
   "execution_count": null,
   "metadata": {},
   "outputs": [],
   "source": []
  }
 ],
 "metadata": {
  "kernelspec": {
   "display_name": "Python 3",
   "language": "python",
   "name": "python3"
  },
  "language_info": {
   "codemirror_mode": {
    "name": "ipython",
    "version": 3
   },
   "file_extension": ".py",
   "mimetype": "text/x-python",
   "name": "python",
   "nbconvert_exporter": "python",
   "pygments_lexer": "ipython3",
   "version": "3.7.6"
  }
 },
 "nbformat": 4,
 "nbformat_minor": 4
}
